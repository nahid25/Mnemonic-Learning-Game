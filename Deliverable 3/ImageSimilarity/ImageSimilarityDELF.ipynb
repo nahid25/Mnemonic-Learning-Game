{
 "cells": [
  {
   "cell_type": "markdown",
   "metadata": {
    "id": "0DmDwGPOGfaQ"
   },
   "source": [
    "# How to match images using DELF and TensorFlow Hub\n"
   ]
  },
  {
   "cell_type": "markdown",
   "metadata": {
    "id": "f3nk38tIKytQ"
   },
   "source": [
    "# Import libraries"
   ]
  },
  {
   "cell_type": "code",
   "execution_count": 2,
   "metadata": {
    "execution": {
     "iopub.execute_input": "2022-04-27T12:55:14.595353Z",
     "iopub.status.busy": "2022-04-27T12:55:14.594683Z",
     "iopub.status.idle": "2022-04-27T12:55:17.152100Z",
     "shell.execute_reply": "2022-04-27T12:55:17.151504Z"
    },
    "id": "SI7eVflHHxvi"
   },
   "outputs": [],
   "source": [
    "import pandas as pd\n",
    "from absl import logging\n",
    "\n",
    "import matplotlib.pyplot as plt\n",
    "import numpy as np\n",
    "from PIL import Image, ImageOps\n",
    "from scipy.spatial import cKDTree\n",
    "from skimage.feature import plot_matches\n",
    "from skimage.measure import ransac\n",
    "from skimage.transform import AffineTransform\n",
    "from six import BytesIO\n",
    "\n",
    "import tensorflow as tf\n",
    "\n",
    "import tensorflow_hub as hub\n",
    "from six.moves.urllib.request import urlopen\n",
    "import os\n",
    "import re"
   ]
  },
  {
   "cell_type": "markdown",
   "metadata": {
    "id": "qquo2HiONiDK"
   },
   "source": [
    "## The data\n",
    "\n",
    "In the next cell, we specify the URLs of two images we would like to process with DELF in order to match and compare them."
   ]
  },
  {
   "cell_type": "code",
   "execution_count": 59,
   "metadata": {
    "execution": {
     "iopub.execute_input": "2022-04-27T12:55:17.156283Z",
     "iopub.status.busy": "2022-04-27T12:55:17.155715Z",
     "iopub.status.idle": "2022-04-27T12:55:17.160148Z",
     "shell.execute_reply": "2022-04-27T12:55:17.159633Z"
    },
    "id": "l93ye4WFIqIV"
   },
   "outputs": [],
   "source": [
    "IMAGE_1_URL = \"FC.jpeg\"\n",
    "IMAGE_2_URL = \"F.jpeg\""
   ]
  },
  {
   "cell_type": "markdown",
   "metadata": {
    "id": "ttlHtcmiN6QF"
   },
   "source": [
    "Download, resize, save and display the images."
   ]
  },
  {
   "cell_type": "code",
   "execution_count": 60,
   "metadata": {
    "execution": {
     "iopub.execute_input": "2022-04-27T12:55:17.163395Z",
     "iopub.status.busy": "2022-04-27T12:55:17.162881Z",
     "iopub.status.idle": "2022-04-27T12:55:17.166949Z",
     "shell.execute_reply": "2022-04-27T12:55:17.166301Z"
    },
    "id": "E6RMomGJSfeb"
   },
   "outputs": [],
   "source": [
    "def download_and_resize(name, url, new_width=256, new_height=256):\n",
    "  #path = tf.keras.utils.get_file(url)\n",
    "  image = Image.open(url)\n",
    "  image = ImageOps.fit(image, (new_width, new_height), Image.ANTIALIAS)\n",
    "  return image"
   ]
  },
  {
   "cell_type": "code",
   "execution_count": 61,
   "metadata": {
    "execution": {
     "iopub.execute_input": "2022-04-27T12:55:17.169994Z",
     "iopub.status.busy": "2022-04-27T12:55:17.169396Z",
     "iopub.status.idle": "2022-04-27T12:55:19.182069Z",
     "shell.execute_reply": "2022-04-27T12:55:19.181478Z"
    },
    "id": "reajtO7XSj7Y"
   },
   "outputs": [
    {
     "name": "stderr",
     "output_type": "stream",
     "text": [
      "/tmp/ipykernel_25312/1814245700.py:4: DeprecationWarning: ANTIALIAS is deprecated and will be removed in Pillow 10 (2023-07-01). Use Resampling.LANCZOS instead.\n",
      "  image = ImageOps.fit(image, (new_width, new_height), Image.ANTIALIAS)\n"
     ]
    },
    {
     "data": {
      "text/plain": [
       "<matplotlib.image.AxesImage at 0x7f5eb83b8430>"
      ]
     },
     "execution_count": 61,
     "metadata": {},
     "output_type": "execute_result"
    },
    {
     "data": {
      "image/png": "[encoded data removed]",
      "text/plain": [
       "<Figure size 640x480 with 2 Axes>"
      ]
     },
     "metadata": {},
     "output_type": "display_data"
    }
   ],
   "source": [
    "image1 = download_and_resize('image_1.jpg', IMAGE_1_URL)\n",
    "image2 = download_and_resize('image_2.jpg', IMAGE_2_URL)\n",
    "\n",
    "\n",
    "plt.subplot(1,2,1)\n",
    "plt.imshow(image1)\n",
    "plt.subplot(1,2,2)\n",
    "plt.imshow(image2)"
   ]
  },
  {
   "cell_type": "markdown",
   "metadata": {
    "id": "leKqkoT9OP7r"
   },
   "source": [
    "## Apply the DELF module to the data"
   ]
  },
  {
   "cell_type": "markdown",
   "metadata": {
    "id": "A3WoT1-SPoTI"
   },
   "source": [
    "The DELF module takes an image as input and will describe noteworthy points with vectors. The following cell contains the core of this colab's logic."
   ]
  },
  {
   "cell_type": "code",
   "execution_count": 62,
   "metadata": {
    "execution": {
     "iopub.execute_input": "2022-04-27T12:55:19.187113Z",
     "iopub.status.busy": "2022-04-27T12:55:19.186678Z",
     "iopub.status.idle": "2022-04-27T12:55:27.171645Z",
     "shell.execute_reply": "2022-04-27T12:55:27.170761Z"
    },
    "id": "pXr2tUhvp1Ue"
   },
   "outputs": [
    {
     "name": "stderr",
     "output_type": "stream",
     "text": [
      "2022-10-21 02:42:38.273118: I tensorflow/stream_executor/cuda/cuda_gpu_executor.cc:980] successful NUMA node read from SysFS had negative value (-1), but there must be at least one NUMA node, so returning NUMA node zero\n",
      "2022-10-21 02:42:38.273332: W tensorflow/stream_executor/platform/default/dso_loader.cc:64] Could not load dynamic library 'libcudart.so.11.0'; dlerror: libcudart.so.11.0: cannot open shared object file: No such file or directory\n",
      "2022-10-21 02:42:38.273383: W tensorflow/stream_executor/platform/default/dso_loader.cc:64] Could not load dynamic library 'libcublas.so.11'; dlerror: libcublas.so.11: cannot open shared object file: No such file or directory\n",
      "2022-10-21 02:42:38.273431: W tensorflow/stream_executor/platform/default/dso_loader.cc:64] Could not load dynamic library 'libcublasLt.so.11'; dlerror: libcublasLt.so.11: cannot open shared object file: No such file or directory\n",
      "2022-10-21 02:42:38.273477: W tensorflow/stream_executor/platform/default/dso_loader.cc:64] Could not load dynamic library 'libcufft.so.10'; dlerror: libcufft.so.10: cannot open shared object file: No such file or directory\n",
      "2022-10-21 02:42:38.273524: W tensorflow/stream_executor/platform/default/dso_loader.cc:64] Could not load dynamic library 'libcurand.so.10'; dlerror: libcurand.so.10: cannot open shared object file: No such file or directory\n",
      "2022-10-21 02:42:38.273570: W tensorflow/stream_executor/platform/default/dso_loader.cc:64] Could not load dynamic library 'libcusolver.so.11'; dlerror: libcusolver.so.11: cannot open shared object file: No such file or directory\n",
      "2022-10-21 02:42:38.273617: W tensorflow/stream_executor/platform/default/dso_loader.cc:64] Could not load dynamic library 'libcusparse.so.11'; dlerror: libcusparse.so.11: cannot open shared object file: No such file or directory\n",
      "2022-10-21 02:42:38.273663: W tensorflow/stream_executor/platform/default/dso_loader.cc:64] Could not load dynamic library 'libcudnn.so.8'; dlerror: libcudnn.so.8: cannot open shared object file: No such file or directory\n",
      "2022-10-21 02:42:38.273669: W tensorflow/core/common_runtime/gpu/gpu_device.cc:1934] Cannot dlopen some GPU libraries. Please make sure the missing libraries mentioned above are installed properly if you would like to use GPU. Follow the guide at https://www.tensorflow.org/install/gpu for how to download and setup the required libraries for your platform.\n",
      "Skipping registering GPU devices...\n",
      "2022-10-21 02:42:38.273857: I tensorflow/core/platform/cpu_feature_guard.cc:193] This TensorFlow binary is optimized with oneAPI Deep Neural Network Library (oneDNN) to use the following CPU instructions in performance-critical operations:  AVX2 FMA\n",
      "To enable them in other operations, rebuild TensorFlow with the appropriate compiler flags.\n"
     ]
    }
   ],
   "source": [
    "delf = hub.load('https://tfhub.dev/google/delf/1').signatures['default']"
   ]
  },
  {
   "cell_type": "code",
   "execution_count": 63,
   "metadata": {
    "execution": {
     "iopub.execute_input": "2022-04-27T12:55:27.175858Z",
     "iopub.status.busy": "2022-04-27T12:55:27.175386Z",
     "iopub.status.idle": "2022-04-27T12:55:27.179729Z",
     "shell.execute_reply": "2022-04-27T12:55:27.179188Z"
    },
    "id": "pvAU_gUHoYcY"
   },
   "outputs": [],
   "source": [
    "def run_delf(image):\n",
    "  np_image = np.array(image)\n",
    "  float_image = tf.image.convert_image_dtype(np_image, tf.float32)\n",
    "\n",
    "  return delf(\n",
    "      image=float_image,\n",
    "      score_threshold=tf.constant(100.0),\n",
    "      image_scales=tf.constant([0.25, 0.3536, 0.5, 0.7071, 1.0, 1.4142, 2.0]),\n",
    "      max_feature_num=tf.constant(1000))"
   ]
  },
  {
   "cell_type": "code",
   "execution_count": 64,
   "metadata": {
    "execution": {
     "iopub.execute_input": "2022-04-27T12:55:27.182851Z",
     "iopub.status.busy": "2022-04-27T12:55:27.182389Z",
     "iopub.status.idle": "2022-04-27T12:55:29.543332Z",
     "shell.execute_reply": "2022-04-27T12:55:29.542735Z"
    },
    "id": "FEzgHAT0UDNP"
   },
   "outputs": [],
   "source": [
    "result1 = run_delf(image1)\n",
    "result2 = run_delf(image2)"
   ]
  },
  {
   "cell_type": "markdown",
   "metadata": {
    "id": "NByyBA5yOL2b"
   },
   "source": [
    "## Use the locations and description vectors to match the images"
   ]
  },
  {
   "cell_type": "code",
   "execution_count": 65,
   "metadata": {
    "cellView": "both",
    "execution": {
     "iopub.execute_input": "2022-04-27T12:55:29.547229Z",
     "iopub.status.busy": "2022-04-27T12:55:29.546682Z",
     "iopub.status.idle": "2022-04-27T12:55:29.553819Z",
     "shell.execute_reply": "2022-04-27T12:55:29.553264Z"
    },
    "id": "mVaKXT3cMSib"
   },
   "outputs": [],
   "source": [
    "#@title TensorFlow is not needed for this post-processing and visualization\n",
    "def match_images(image1, image2, result1, result2):\n",
    "  distance_threshold = 0.8\n",
    "\n",
    "  # Read features.\n",
    "  num_features_1 = result1['locations'].shape[0]\n",
    "  print(\"Loaded image 1's %d features\" % num_features_1)\n",
    "  \n",
    "  num_features_2 = result2['locations'].shape[0]\n",
    "  print(\"Loaded image 2's %d features\" % num_features_2)\n",
    "\n",
    "  # Find nearest-neighbor matches using a KD tree.\n",
    "  d1_tree = cKDTree(result1['descriptors'])\n",
    "  _, indices = d1_tree.query(\n",
    "      result2['descriptors'],\n",
    "      distance_upper_bound=distance_threshold)\n",
    "\n",
    "  # Select feature locations for putative matches.\n",
    "  locations_2_to_use = np.array([\n",
    "      result2['locations'][i,]\n",
    "      for i in range(num_features_2)\n",
    "      if indices[i] != num_features_1\n",
    "  ])\n",
    "  locations_1_to_use = np.array([\n",
    "      result1['locations'][indices[i],]\n",
    "      for i in range(num_features_2)\n",
    "      if indices[i] != num_features_1\n",
    "  ])\n",
    "\n",
    "  # Perform geometric verification using RANSAC.\n",
    "  _, inliers = ransac(\n",
    "      (locations_1_to_use, locations_2_to_use),\n",
    "      AffineTransform,\n",
    "      min_samples=3,\n",
    "      residual_threshold=20,\n",
    "      max_trials=1000)\n",
    "\n",
    "  print('Found %d inliers' % sum(inliers))\n",
    "\n",
    "  # Visualize correspondences.\n",
    "  _, ax = plt.subplots()\n",
    "  inlier_idxs = np.nonzero(inliers)[0]\n",
    "  plot_matches(\n",
    "      ax,\n",
    "      image1,\n",
    "      image2,\n",
    "      locations_1_to_use,\n",
    "      locations_2_to_use,\n",
    "      np.column_stack((inlier_idxs, inlier_idxs)),\n",
    "      matches_color='b')\n",
    "  ax.axis('off')\n",
    "  ax.set_title('DELF correspondences')\n",
    "\n",
    "\n"
   ]
  },
  {
   "cell_type": "code",
   "execution_count": 66,
   "metadata": {
    "execution": {
     "iopub.execute_input": "2022-04-27T12:55:29.556548Z",
     "iopub.status.busy": "2022-04-27T12:55:29.556158Z",
     "iopub.status.idle": "2022-04-27T12:55:30.211333Z",
     "shell.execute_reply": "2022-04-27T12:55:30.210761Z"
    },
    "id": "tpEgqOvCYlPY"
   },
   "outputs": [
    {
     "name": "stdout",
     "output_type": "stream",
     "text": [
      "Loaded image 1's 12 features\n",
      "Loaded image 2's 5 features\n",
      "Found 5 inliers\n"
     ]
    },
    {
     "data": {
      "image/png": "[encoded data removed]",
      "text/plain": [
       "<Figure size 640x480 with 1 Axes>"
      ]
     },
     "metadata": {},
     "output_type": "display_data"
    }
   ],
   "source": [
    "match_images(image1, image2, result1, result2)"
   ]
  },
  {
   "cell_type": "code",
   "execution_count": null,
   "metadata": {},
   "outputs": [],
   "source": []
  }
 ],
 "metadata": {
  "colab": {
   "collapsed_sections": [
    "RUymE2l9GZfO"
   ],
   "name": "TF-Hub Delf module",
   "private_outputs": true,
   "provenance": [],
   "toc_visible": true
  },
  "kernelspec": {
   "display_name": "Python 3 (ipykernel)",
   "language": "python",
   "name": "python3"
  },
  "language_info": {
   "codemirror_mode": {
    "name": "ipython",
    "version": 3
   },
   "file_extension": ".py",
   "mimetype": "text/x-python",
   "name": "python",
   "nbconvert_exporter": "python",
   "pygments_lexer": "ipython3",
   "version": "3.9.13"
  }
 },
 "nbformat": 4,
 "nbformat_minor": 1
}
